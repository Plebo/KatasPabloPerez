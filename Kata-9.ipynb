{
 "cells": [
  {
   "cell_type": "markdown",
   "metadata": {},
   "source": [
    "# Ejercicio 1\n",
    "Informe de combustible que requiere información de varias ubicaciones de combustible en todo el cohete."
   ]
  },
  {
   "cell_type": "code",
   "execution_count": 25,
   "metadata": {},
   "outputs": [],
   "source": [
    "def generarInforme(tanques):\n",
    "    return f\"\"\"\n",
    "    Reporte:\n",
    "        Tanque 1: {tanques[0]} %\n",
    "        Tanque 2: {tanques[1]} %\n",
    "        Tanque 3: {tanques[2]} %\n",
    "    Promedio: {(tanques[0] + tanques[1] + tanques[2]) / len(tanques)} %\"\"\"\n"
   ]
  },
  {
   "cell_type": "markdown",
   "metadata": {},
   "source": [
    "Ahora que hemos definido la función de informes, vamos a comprobarlo. Para esta misión, los tanques no están llenos:"
   ]
  },
  {
   "cell_type": "code",
   "execution_count": 26,
   "metadata": {},
   "outputs": [
    {
     "name": "stdout",
     "output_type": "stream",
     "text": [
      "[50, 80, 90]\n",
      "\n",
      "    Reporte:\n",
      "        Tanque 1: 50 %\n",
      "        Tanque 2: 80 %\n",
      "        Tanque 3: 90 %\n",
      "    Promedio: 73.33333333333333 %\n"
     ]
    }
   ],
   "source": [
    "print(generarInforme([50, 80, 90]))"
   ]
  },
  {
   "cell_type": "markdown",
   "metadata": {},
   "source": [
    "En lugar de simplemente crear el informe, la función también está calculando el promedio. Mejora la legibilidad extrayendo el cálculo promedio de la función en una nueva función para que el promedio se pueda hacer de forma independiente"
   ]
  },
  {
   "cell_type": "code",
   "execution_count": 29,
   "metadata": {},
   "outputs": [],
   "source": [
    "def promedio(tanques):\n",
    "    return sum(tanques) / len(tanques)"
   ]
  },
  {
   "cell_type": "markdown",
   "metadata": {},
   "source": [
    "Ahora actualiza la función de informes para llamando a la nueva función del promedio:"
   ]
  },
  {
   "cell_type": "code",
   "execution_count": 31,
   "metadata": {},
   "outputs": [
    {
     "name": "stdout",
     "output_type": "stream",
     "text": [
      "\n",
      "    Reporte:\n",
      "        Tanque 1: 50 %\n",
      "        Tanque 2: 80 %\n",
      "        Tanque 3: 90 %\n",
      "    Promedio: 73.33333333333333 %\n"
     ]
    }
   ],
   "source": [
    "def generarInforme(tanques):\n",
    "    return f\"\"\"\n",
    "    Reporte:\n",
    "        Tanque 1: {tanques[0]} %\n",
    "        Tanque 2: {tanques[1]} %\n",
    "        Tanque 3: {tanques[2]} %\n",
    "    Promedio: {promedio(tanques)} %\"\"\"\n",
    "\n",
    "\n",
    "print(generarInforme([50, 80, 90]))"
   ]
  },
  {
   "cell_type": "markdown",
   "metadata": {},
   "source": [
    "# Ejercicio 2\n",
    "construir un informe de cohete que requiere varias piezas de información, como el tiempo hasta el destino, el combustible a la izquierda y el nombre del destino. Comienza por crear una función que creará un informe preciso de la misión\n",
    "\n",
    "Considera hora de prelanzamiento, tiempo de vuelo, destino, tanque externo y tanque interno"
   ]
  },
  {
   "cell_type": "code",
   "execution_count": 8,
   "metadata": {},
   "outputs": [
    {
     "name": "stdout",
     "output_type": "stream",
     "text": [
      "\n",
      "    Viajando a Luna\n",
      "    con un tiempo faltante aproximado de 3 min.\n",
      "    combustible restante 130 Lts.\n",
      "    \n"
     ]
    }
   ],
   "source": [
    "def informeMision(prelanzamiento, tiempoVuelo, destino, tanqueExt, tanqueInt):\n",
    "    return f\"\"\"\n",
    "    Viajando a {destino}\n",
    "    con un tiempo faltante aproximado de {prelanzamiento + tiempoVuelo} min.\n",
    "    combustible restante {tanqueExt + tanqueInt} Lts.\n",
    "    \"\"\"\n",
    "\n",
    "print(informeMision(1, 2, \"Luna\", 50, 80))"
   ]
  },
  {
   "cell_type": "markdown",
   "metadata": {},
   "source": [
    "La función es problemática porque no se puede adaptar para minutos adicionales o tanques adicionales de combustible. Hazlo más flexible permitiendo cualquier número de pasos basados en el tiempo y cualquier número de tanques. En lugar de usar *args y **kwargs, aprovecha el hecho de que puedes usar cualquier nombre que desees. Asegurate que la función sea más legible mediante el uso de nombres de variables que están asociados con las entradas"
   ]
  },
  {
   "cell_type": "code",
   "execution_count": 9,
   "metadata": {},
   "outputs": [
    {
     "name": "stdout",
     "output_type": "stream",
     "text": [
      "\n",
      "    Viajando a Tierra\n",
      "    con un tiempo faltante aproximado de 450 min.\n",
      "    combustible restante 500 Lts.\n",
      "    \n"
     ]
    }
   ],
   "source": [
    "def informeMision(destino, *time, **tanques):\n",
    "    return f\"\"\"\n",
    "    Viajando a {destino}\n",
    "    con un tiempo faltante aproximado de {sum(time)} min.\n",
    "    combustible restante {sum(tanques.values())} Lts.\n",
    "    \"\"\"\n",
    "\n",
    "print(informeMision(\"Tierra\", 50, 100, 100, 200, tanqueExt=100, tanqueInt=300, tanqueAlt=100))"
   ]
  }
 ],
 "metadata": {
  "interpreter": {
   "hash": "b0fa6594d8f4cbf19f97940f81e996739fb7646882a419484c72d19e05852a7e"
  },
  "kernelspec": {
   "display_name": "Python 3.9.10 64-bit",
   "language": "python",
   "name": "python3"
  },
  "language_info": {
   "codemirror_mode": {
    "name": "ipython",
    "version": 3
   },
   "file_extension": ".py",
   "mimetype": "text/x-python",
   "name": "python",
   "nbconvert_exporter": "python",
   "pygments_lexer": "ipython3",
   "version": "3.9.10"
  },
  "orig_nbformat": 4
 },
 "nbformat": 4,
 "nbformat_minor": 2
}
