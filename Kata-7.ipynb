{
 "cells": [
  {
   "cell_type": "markdown",
   "metadata": {},
   "source": [
    "# Ejercicio 1\n",
    "El ciclo while se ejecutará mientras el new_planet no sea igual a la palabra 'done'.\n",
    "\n",
    "Dentro del ciclo, comprobarás si la variable new_planet contiene un valor, que debería ser el nombre de un planeta. Esta es una forma rápida de ver si el usuario ha introducido un valor. Si lo han hecho, tu código agregará (append) ese valor a la variable planets.\n",
    "\n",
    "Finalmente, usarás input para solicitar al usuario que ingrese un nuevo nombre de planeta o que escriba done si ha terminado de ingresar nombres de planeta. Almacenará el valor de input en la variable new_planet."
   ]
  },
  {
   "cell_type": "code",
   "execution_count": 4,
   "metadata": {},
   "outputs": [],
   "source": [
    "planets = []\n",
    "newPlanet = \"\"\n",
    "while newPlanet.upper() != \"DONE\":\n",
    "    newPlanet = input(\"Ingrese el nombre de un planeta del sistema solar o 'done' si no quiere ingresar más planetas\")\n",
    "    if(newPlanet and newPlanet.upper() != \"DONE\"):\n",
    "        planets.append(newPlanet)\n",
    "\n"
   ]
  },
  {
   "cell_type": "markdown",
   "metadata": {},
   "source": [
    "# Ejercicio 2\n",
    "Crea un ciclo for para iterar sobre la lista planets. Puedes usar como nombre de la variable planet para cada planeta. Dentro del ciclo for, recuerda utilizar print para mostrar cada planet."
   ]
  },
  {
   "cell_type": "code",
   "execution_count": 5,
   "metadata": {},
   "outputs": [
    {
     "name": "stdout",
     "output_type": "stream",
     "text": [
      "hola\n",
      "sol\n",
      "luna\n"
     ]
    }
   ],
   "source": [
    "for planet in planets:\n",
    "    print(planet)"
   ]
  }
 ],
 "metadata": {
  "interpreter": {
   "hash": "b0fa6594d8f4cbf19f97940f81e996739fb7646882a419484c72d19e05852a7e"
  },
  "kernelspec": {
   "display_name": "Python 3.9.10 64-bit",
   "language": "python",
   "name": "python3"
  },
  "language_info": {
   "codemirror_mode": {
    "name": "ipython",
    "version": 3
   },
   "file_extension": ".py",
   "mimetype": "text/x-python",
   "name": "python",
   "nbconvert_exporter": "python",
   "pygments_lexer": "ipython3",
   "version": "3.9.10"
  },
  "orig_nbformat": 4
 },
 "nbformat": 4,
 "nbformat_minor": 2
}
