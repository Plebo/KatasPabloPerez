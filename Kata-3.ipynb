{
 "cells": [
  {
   "cell_type": "markdown",
   "metadata": {},
   "source": [
    "# Condicionales\n",
    "Imprima una advertencia si un asteroide se acerca a la Tierra demasiado rápido. La velocidad del asteroide varía dependiendo de lo cerca que esté del sol, y cualquier velocidad superior a 25 kilómetros por segundo (km/s) merece una advertencia.\n",
    "Un asteroide se acerca, y viaja a una velocidad de 49 km/s."
   ]
  },
  {
   "cell_type": "code",
   "execution_count": 3,
   "metadata": {},
   "outputs": [
    {
     "name": "stdout",
     "output_type": "stream",
     "text": [
      "Un asteroide ha sido observado, viaja a una velocidad no alarmante de 19km/h\n"
     ]
    }
   ],
   "source": [
    "velocidad = 19\n",
    "\n",
    "if(velocidad > 25):\n",
    "    print(f'Advertencia, un asteroide viaja a más de 25km/h. Velocidad detectada: {velocidad}km/h')\n",
    "else:\n",
    "    print(f'Un asteroide ha sido observado, viaja a una velocidad no alarmante de {velocidad}km/h')"
   ]
  },
  {
   "cell_type": "markdown",
   "metadata": {},
   "source": [
    "Si un asteroide entra en la atmósfera de la Tierra a una velocidad mayor o igual a 20 km/s, a veces produce un rayo de luz que se puede ver desde la Tierra. Escribe la lógica condicional que usa declaraciones if, else, y elif para alertar a las personas de todo el mundo que deben buscar un asteroide en el cielo. ¡Hay uno que se dirige a la tierra ahora a una velocidad de 19 km/s!"
   ]
  },
  {
   "cell_type": "code",
   "execution_count": 4,
   "metadata": {},
   "outputs": [
    {
     "name": "stdout",
     "output_type": "stream",
     "text": [
      "Hay un asteroide viajando a más de 20km/h, asegurate de ver la estela que deja en el cielo\n"
     ]
    }
   ],
   "source": [
    "velocidad = 33\n",
    "\n",
    "if(velocidad > 20):\n",
    "    print(\"Hay un asteroide viajando a más de 20km/h, asegurate de ver la estela que deja en el cielo\")\n",
    "elif(velocidad == 20):\n",
    "    print(\"Hay un asteroide viajando a 20km/h, asegurate de ver la estela que deja en el cielo\")\n",
    "else:\n",
    "     print(\"Hay un asteroide viajando a menos de 20km/h, lamentablemente no verás nada en el cielo\")"
   ]
  },
  {
   "cell_type": "markdown",
   "metadata": {},
   "source": [
    "# Operadores 'and' y 'or'\n",
    "*Los asteroides de menos de 25 metros en su dimensión más grande probablemente se quemarán a medida que entren en la atmósfera de la Tierra.\n",
    "\n",
    "Si una pieza de un asteroide que es más grande que 25 metros pero más pequeña que 1000 metros golpeara la Tierra, causaría mucho daño.\n",
    "También discutimos en el ejercicio anterior que:\n",
    "\n",
    "La velocidad del asteroide varía en función de lo cerca que esté del sol, y cualquier velocidad superior a 25 kilómetros por segundo (km/s) merece una advertencia.\n",
    "Si un asteroide entra en la atmósfera de la Tierra a una velocidad mayor o igual a 20 km/s, a veces produce un rayo de luz que se puede ver desde la Tierra."
   ]
  },
  {
   "cell_type": "code",
   "execution_count": 15,
   "metadata": {},
   "outputs": [
    {
     "name": "stdout",
     "output_type": "stream",
     "text": [
      "Un asteroide se acerca pero no representa peligro\n"
     ]
    }
   ],
   "source": [
    "velocidad = 19\n",
    "tamano = 10\n",
    "\n",
    "if(velocidad > 25 and (tamano > 25 and tamano < 1000 )):\n",
    "    print(f\"Un asteroide se acerca a {velocidad}km/h, mayor al limite para advertencias con un tamaño de {tamano}m que se quemará entrando a la atmosfera\")\n",
    "elif (velocidad > 25 and tamano >= 1000):\n",
    "    print(f\"Un asteroide se acerca a {velocidad}km/h, mayor al limite para advertencias con un tamaño extremadamente peligroso de {tamano}m \")\n",
    "elif(velocidad > 25):\n",
    "    print(f\"Un asteroide se acerca más rápido que la velocidad limite, velocidad detectada: {velocidad}km/h\")\n",
    "elif(tamano > 25 and tamano < 1000):\n",
    "    print(f\"Un asteroide se acerca con un tamaño de {tamano}m que se quemará entrando a la atmosfera\")\n",
    "elif(tamano >= 1000):\n",
    "    print(f\"Un asteroide se acerca con un tamaño de {tamano}m que probablemente nos matará a todos *JUST LOOK UP!*\")\n",
    "elif(velocidad >= 20):\n",
    "    print(f\"Un asteroide se acerca con una velocidad de {velocidad}km/h, mira hacia el cielo para ver su estela\")\n",
    "elif(velocidad < 20 or tamano < 25):\n",
    "    print(\"Un asteroide se acerca pero no representa peligro\")\n",
    "else:\n",
    "    print(\"Sin peligros inminentes\")"
   ]
  }
 ],
 "metadata": {
  "interpreter": {
   "hash": "b0fa6594d8f4cbf19f97940f81e996739fb7646882a419484c72d19e05852a7e"
  },
  "kernelspec": {
   "display_name": "Python 3.9.10 64-bit",
   "language": "python",
   "name": "python3"
  },
  "language_info": {
   "codemirror_mode": {
    "name": "ipython",
    "version": 3
   },
   "file_extension": ".py",
   "mimetype": "text/x-python",
   "name": "python",
   "nbconvert_exporter": "python",
   "pygments_lexer": "ipython3",
   "version": "3.9.10"
  },
  "orig_nbformat": 4
 },
 "nbformat": 4,
 "nbformat_minor": 2
}
